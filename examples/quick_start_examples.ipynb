{
  "cells": [
    {
      "cell_type": "markdown",
      "metadata": {
        "id": "new_cell_id_1"
      },
      "source": [
        "# Camelot Quick Start Examples\n",
        "\n",
        "[![Open In Colab](https://colab.research.google.com/assets/colab-badge.svg)](https://colab.research.google.com/drive/1dMSzrIOXfq5zd99ZUatWb4EMErjgen1j?usp=sharing)\n",
        "\n",
        "This notebook provides tools for extracting tables from PDF files using Camelot."
      ]
    },
    {
      "cell_type": "markdown",
      "metadata": {
        "id": "bIKqmN_5jpJB"
      },
      "source": [
        "# Dependencies Overview\n",
        "\n",
        "- [Camelot](https://github.com/camelot-dev/camelot)\n",
        "- [PyPDF2](https://github.com/py-pdf/pypdf)\n",
        "- [GhostScript](https://www.ghostscript.com/index.html)"
      ]
    },
    {
      "cell_type": "code",
      "execution_count": null,
      "metadata": {
        "id": "x2gOsT54QO6f"
      },
      "outputs": [],
      "source": [
        "# @title 📂 Create necessary directories and delete sample_data if exists\n",
        "\n",
        "import os\n",
        "import shutil\n",
        "from pathlib import Path\n",
        "\n",
        "# Function to delete a directory and its contents\n",
        "def delete_directory(path):\n",
        "    try:\n",
        "        shutil.rmtree(path)\n",
        "        print(f\"Deleted directory: {path}\")\n",
        "    except FileNotFoundError:\n",
        "        print(f\"Directory not found: {path}\")\n",
        "    except Exception as e:\n",
        "        print(f\"Error deleting directory {path}: {e}\")\n",
        "\n",
        "# Delete /content/sample_data if it exists\n",
        "sample_data_dir = Path('/content/sample_data')\n",
        "if sample_data_dir.exists():\n",
        "    print(\"Deleting /content/sample_data directory...\")\n",
        "    delete_directory(sample_data_dir)\n",
        "\n",
        "# Create the necessary directories\n",
        "os.makedirs('/content/output', exist_ok=True)\n",
        "os.makedirs('/content/sample_pdfs', exist_ok=True)\n",
        "\n",
        "# Define input and output directories\n",
        "input_dir = Path('/content/sample_pdfs')\n",
        "output_dir = Path('/content/output')\n",
        "\n",
        "print(\"Directories set up complete.\")\n",
        "print(f\"Input directory: {input_dir}\")\n",
        "print(f\"Output directory: {output_dir}\")\n"
      ]
    },
    {
      "cell_type": "code",
      "execution_count": null,
      "metadata": {
        "cellView": "form",
        "id": "l3kChPYC8Srj"
      },
      "outputs": [],
      "source": [
        "# @title 📤 Upload Files (Optional)\n",
        "\n",
        "from google.colab import files\n",
        "\n",
        "print(\"\\nPlease upload your PDF files. They will be saved in /content/sample_pdfs\")\n",
        "\n",
        "# Upload files\n",
        "uploaded = files.upload()\n",
        "\n",
        "# Move uploaded files to /content/sample_pdfs and remove from /content\n",
        "for filename in uploaded.keys():\n",
        "    src_path = Path('/content') / filename\n",
        "    dst_path = Path('/content/sample_pdfs') / filename\n",
        "    if src_path.exists():\n",
        "        shutil.move(str(src_path), str(dst_path))\n",
        "        print(f\"Moved {filename} to /content/sample_pdfs\")\n",
        "    else:\n",
        "        print(f\"Warning: {filename} not found in /content\")\n",
        "\n",
        "# Clean up any remaining PDF files in /content\n",
        "for file in Path('/content').glob('*.pdf'):\n",
        "    os.remove(file)\n",
        "    print(f\"Removed {file.name} from /content\")\n",
        "\n",
        "print(\"\\nUpload and organization complete. Files are now only in /content/sample_pdfs\")\n",
        "\n",
        "# Verify contents of /content/sample_pdfs\n",
        "print(\"\\nContents of /content/sample_pdfs:\")\n",
        "print(os.listdir('/content/sample_pdfs'))\n",
        "\n",
        "# Verify no PDF files in /content\n",
        "print(\"\\nChecking for PDF files in /content:\")\n",
        "content_pdfs = list(Path('/content').glob('*.pdf'))\n",
        "if content_pdfs:\n",
        "    print(\"Warning: Found these PDF files in /content:\")\n",
        "    for pdf in content_pdfs:\n",
        "        print(f\" - {pdf.name}\")\n",
        "else:\n",
        "    print(\"No PDF files found in /content\")"
      ]
    },
    {
      "cell_type": "code",
      "execution_count": null,
      "metadata": {
        "cellView": "form",
        "id": "rdNIDYtlg5ME"
      },
      "outputs": [],
      "source": [
        "# @title ⬇📕 Download Sample .PDF Document (Optional)\n",
        "\n",
        "import os\n",
        "import requests\n",
        "from pathlib import Path\n",
        "\n",
        "def convert_github_url_to_raw(url):\n",
        "    if \"github.com\" in url and \"/blob/\" in url:\n",
        "        raw_url = url.replace(\"github.com\", \"raw.githubusercontent.com\").replace(\"/blob/\", \"/\")\n",
        "        return raw_url\n",
        "    else:\n",
        "        return \"Invalid GitHub URL\"\n",
        "\n",
        "# Sample .pdf data from GitHub\n",
        "pdf_url = 'https://github.com/camelot-dev/camelot/blob/master/docs/_static/pdf/foo.pdf' # @param {type:\"string\"}\n",
        "\n",
        "# Convert the GitHub URL to the raw content URL\n",
        "pdf_url = convert_github_url_to_raw(pdf_url)\n",
        "\n",
        "# Check if the URL is valid\n",
        "if pdf_url == \"Invalid GitHub URL\":\n",
        "    raise ValueError(\"The provided GitHub URL is invalid.\")\n",
        "\n",
        "# Create the /content/sample_pdfs directory if it doesn't exist\n",
        "sample_pdfs_dir = Path('/content/sample_pdfs')\n",
        "sample_pdfs_dir.mkdir(parents=True, exist_ok=True)\n",
        "\n",
        "# Download the PDF\n",
        "response = requests.get(pdf_url)\n",
        "response.raise_for_status()  # Check if the request was successful\n",
        "\n",
        "# Extract the filename from the URL\n",
        "filename = os.path.basename(pdf_url)\n",
        "\n",
        "# Specify the file path in the /content/sample_pdfs directory\n",
        "pdf_file_path = sample_pdfs_dir / filename\n",
        "\n",
        "# Save the file, overwriting if it already exists\n",
        "with open(pdf_file_path, 'wb') as file:\n",
        "    file.write(response.content)\n",
        "\n",
        "print(f\"PDF file downloaded and saved to: {pdf_file_path}\")"
      ]
    },
    {
      "cell_type": "code",
      "execution_count": null,
      "metadata": {
        "collapsed": true,
        "id": "9xfD4-FXfgFO"
      },
      "outputs": [],
      "source": [
        "# @title 🛠️ Install Requirements\n",
        "!pip install PyPDF2==1.26.0\n",
        "!apt-get install -y ghostscript\n",
        "!pip install \"camelot-py[cv]\""
      ]
    },
    {
      "cell_type": "code",
      "execution_count": null,
      "metadata": {
        "id": "WtuprHv_ey1M"
      },
      "outputs": [],
      "source": [
        "# @title ⚙️ Core - Simple Tables (Strict Parameters)\n",
        "\n",
        "import camelot\n",
        "\n",
        "# Process each PDF in the input directory\n",
        "for pdf_file in input_dir.glob('*.pdf'):\n",
        "    print(f\"Processing {pdf_file.name}\")\n",
        "\n",
        "    # Read tables from the PDF\n",
        "    tables = camelot.read_pdf(str(pdf_file))\n",
        "\n",
        "    # Create a subdirectory for this PDF's output\n",
        "    pdf_output_dir = output_dir / pdf_file.stem\n",
        "    pdf_output_dir.mkdir(exist_ok=True)\n",
        "\n",
        "    # Export all tables to CSV\n",
        "    tables.export(str(pdf_output_dir / f\"{pdf_file.stem}.csv\"), f='csv', compress=True)\n",
        "\n",
        "    # Process individual tables\n",
        "    for i, table in enumerate(tables):\n",
        "        # Save individual table to CSV\n",
        "        table.to_csv(str(pdf_output_dir / f\"{pdf_file.stem}_table_{i+1}.csv\"))\n",
        "\n",
        "        # Print parsing report for each table\n",
        "        print(f\"Table {i+1} Parsing Report:\")\n",
        "        print(table.parsing_report)\n",
        "        print()\n",
        "\n",
        "print(\"Processing complete. Check the 'output' folder for results.\")"
      ]
    },
    {
      "cell_type": "code",
      "execution_count": null,
      "metadata": {
        "id": "rCkxLY93k98_"
      },
      "outputs": [],
      "source": [
        "# @title ⚙️ Core - Complex Tables (Loose Parameters)\n",
        "\n",
        "import camelot\n",
        "import os\n",
        "from pathlib import Path\n",
        "\n",
        "# Create output directory if it doesn't exist\n",
        "output_dir = Path('/content/output')\n",
        "output_dir.mkdir(parents=True, exist_ok=True)\n",
        "\n",
        "# Process all PDF files in the input directory\n",
        "input_dir = Path('/content/sample_pdfs')\n",
        "for pdf_file in input_dir.glob('*.pdf'):\n",
        "    print(f\"Processing {pdf_file.name}\")\n",
        "\n",
        "    # Using 'stream' flavor with table_areas\n",
        "    tables_stream = camelot.read_pdf(str(pdf_file), flavor='stream', table_areas=['50,750,500,50'])\n",
        "\n",
        "    if len(tables_stream) == 0:\n",
        "        # If no tables are detected, try using 'lattice' flavor\n",
        "        tables_lattice = camelot.read_pdf(str(pdf_file), flavor='lattice', table_areas=['50,750,500,50'])\n",
        "\n",
        "    # Checking the detected tables\n",
        "    if len(tables_stream) > 0:\n",
        "        tables = tables_stream\n",
        "    elif len(tables_lattice) > 0:\n",
        "        tables = tables_lattice\n",
        "    else:\n",
        "        tables = []\n",
        "\n",
        "    # Exporting if tables are found\n",
        "    if len(tables) > 0:\n",
        "        output_base = output_dir / pdf_file.stem\n",
        "        tables.export(f'{output_base}.csv', f='csv', compress=True)  # export all tables to CSV\n",
        "        tables[0].to_csv(f'{output_base}_first_table.csv')  # Save the first table to CSV\n",
        "        df = tables[0].df  # Get the first table as a pandas DataFrame\n",
        "        print(f\"Tables found in {pdf_file.name}:\")\n",
        "        print(df)\n",
        "    else:\n",
        "        print(f\"No tables found in {pdf_file.name}\")\n",
        "\n",
        "print(\"Processing complete. Check the output directory for results.\")"
      ]
    },
    {
      "cell_type": "code",
      "execution_count": null,
      "metadata": {
        "id": "U8f1O4DX_h6r"
      },
      "outputs": [],
      "source": [
        "# @title 🗑️ Clear Output Directory\n",
        "\n",
        "import shutil\n",
        "from pathlib import Path\n",
        "\n",
        "output_dir = Path('/content/output')\n",
        "\n",
        "# Warning message\n",
        "print(\"⚠️ WARNING: This will delete all contents of the '/content/output' directory!\")\n",
        "confirmation = input(\"Type 'YES' to confirm: \")\n",
        "\n",
        "if confirmation == 'YES':\n",
        "    # Check if the directory exists\n",
        "    if output_dir.exists() and output_dir.is_dir():\n",
        "        # Remove all contents of the directory\n",
        "        for item in output_dir.iterdir():\n",
        "            if item.is_dir():\n",
        "                shutil.rmtree(item)\n",
        "            else:\n",
        "                item.unlink()\n",
        "        print(\"✅ All contents of '/content/output' have been deleted.\")\n",
        "    else:\n",
        "        print(\"The '/content/output' directory does not exist.\")\n",
        "else:\n",
        "    print(\"Operation cancelled. No files were deleted.\")"
      ]
    }
  ],
  "metadata": {
    "colab": {
      "private_outputs": true,
      "provenance": []
    },
    "kernelspec": {
      "display_name": "Python 3",
      "name": "python3"
    },
    "language_info": {
      "name": "python"
    }
  },
  "nbformat": 4,
  "nbformat_minor": 0
}
